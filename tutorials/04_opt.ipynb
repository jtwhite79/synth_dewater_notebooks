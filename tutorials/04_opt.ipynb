{
 "cells": [
  {
   "cell_type": "markdown",
   "id": "77c35edf-7a80-4f5d-9434-55a0cdecbe74",
   "metadata": {},
   "source": [
    "## Optimization for the win\n",
    "\n",
    "In this notebook, we will use formal constained management optimization as a replacement for boring 'ole scenarios.  Buckle up!"
   ]
  },
  {
   "cell_type": "code",
   "execution_count": null,
   "id": "37f6543c-52d3-470a-88f8-ebf9927b8609",
   "metadata": {},
   "outputs": [],
   "source": [
    "import os\n",
    "import warnings\n",
    "warnings.filterwarnings(\"ignore\")\n",
    "warnings.filterwarnings(\"ignore\", category=DeprecationWarning) \n",
    "import numpy as np\n",
    "import pandas as pd\n",
    "font = {'size'   : 10}\n",
    "import matplotlib\n",
    "matplotlib.rc('font', **font)\n",
    "import matplotlib.pyplot as plt;\n",
    "import shutil\n",
    "import psutil\n",
    "\n",
    "import sys\n",
    "import pyemu\n",
    "import flopy\n",
    "assert \"dependencies\" in flopy.__file__\n",
    "assert \"dependencies\" in pyemu.__file__\n",
    "sys.path.insert(0,\"..\")\n",
    "import herebedragons as hbd\n"
   ]
  },
  {
   "cell_type": "code",
   "execution_count": null,
   "id": "0aed177b-0457-444c-a6cb-84be46a8d273",
   "metadata": {},
   "outputs": [],
   "source": [
    "# specify the temporary working folder\n",
    "t_d = os.path.join('pst_template_opt')\n",
    "if os.path.exists(t_d):\n",
    "    shutil.rmtree(t_d)\n",
    "\n",
    "org_t_d = os.path.join(\"master_ies0\")\n",
    "if not os.path.exists(org_t_d):\n",
    "    raise Exception()\n",
    "\n",
    "shutil.copytree(org_t_d,t_d)"
   ]
  },
  {
   "cell_type": "code",
   "execution_count": null,
   "id": "c47db258-5dbc-4f17-aeb0-cbc470d74f39",
   "metadata": {},
   "outputs": [],
   "source": [
    "pst = pyemu.Pst(os.path.join(t_d,\"pest.pst\"))\n",
    "pe = pst.ies.get(\"paren\",pst.ies.phiactual.iteration.max())"
   ]
  },
  {
   "cell_type": "markdown",
   "id": "613de35d-7587-4275-b2bc-f68497e90f73",
   "metadata": {},
   "source": [
    "We want to use the \"calibrated\" model, which is the \"base\" realziation from IES:"
   ]
  },
  {
   "cell_type": "code",
   "execution_count": null,
   "id": "005ef0e9-4f4a-4ba6-86f6-e7b4c124d58c",
   "metadata": {},
   "outputs": [],
   "source": [
    "par = pst.parameter_data\n",
    "par.loc[pe.columns,\"parval1\"] = pe.loc[\"base\",:].values.flatten()"
   ]
  },
  {
   "cell_type": "code",
   "execution_count": null,
   "id": "b3d830ec-2466-47c1-88c1-76b10077f410",
   "metadata": {},
   "outputs": [],
   "source": [
    "pst.control_data.noptmax = 0\n",
    "pst.write(os.path.join(t_d,\"pest.pst\"),version=2)\n",
    "pyemu.os_utils.run(\"pestpp-ies pest.pst\",cwd=t_d)"
   ]
  },
  {
   "cell_type": "code",
   "execution_count": null,
   "id": "88c28194-c21f-4131-8c84-d20502c38dba",
   "metadata": {},
   "outputs": [],
   "source": [
    "pst.set_res(os.path.join(t_d,\"pest.base.rei\"))\n",
    "obs = pst.observation_data"
   ]
  },
  {
   "cell_type": "markdown",
   "id": "d7853100-edd3-4994-8b92-dfeeae2ae7c4",
   "metadata": {},
   "source": [
    "Let's plot the calibrated HK array and the end-of-mining heads"
   ]
  },
  {
   "cell_type": "code",
   "execution_count": null,
   "id": "477f28e5-7354-4977-a1ef-fac08d900952",
   "metadata": {},
   "outputs": [],
   "source": [
    "sim = flopy.mf6.MFSimulation.load(sim_ws=t_d)\n",
    "gwf = sim.get_model()\n",
    "X,Y = gwf.modelgrid.xcellcenters,gwf.modelgrid.ycellcenters"
   ]
  },
  {
   "cell_type": "code",
   "execution_count": null,
   "id": "419bb5a1-e6b2-4b78-a26b-e96db8e125c3",
   "metadata": {},
   "outputs": [],
   "source": [
    "hkobs = obs.loc[obs.obsnme.str.contains(\"hk\"),:].copy()\n",
    "hkobs[\"i\"] = hkobs.i.astype(int)\n",
    "hkobs[\"j\"] = hkobs.j.astype(int)\n",
    "hkarr = np.zeros((hkobs.i.max()+1,hkobs.j.max()+1))\n",
    "hkarr[hkobs.i,hkobs.j] = pst.res.loc[hkobs.obsnme,\"modelled\"].values"
   ]
  },
  {
   "cell_type": "code",
   "execution_count": null,
   "id": "8f7fc69b-d3aa-4dcc-b73d-258edf8fc853",
   "metadata": {},
   "outputs": [],
   "source": [
    "eomhdsobs = obs.loc[(obs.obsnme.str.contains(\"hdslay1_t2\")),:].copy()\n",
    "eomhdsobs[\"i\"] = eomhdsobs.i.astype(int)\n",
    "eomhdsobs[\"j\"] = eomhdsobs.j.astype(int)\n",
    "eomarr = np.zeros((eomhdsobs.i.max()+1,eomhdsobs.j.max()+1))\n",
    "eomarr[eomhdsobs.i,eomhdsobs.j] = pst.res.loc[eomhdsobs.obsnme,\"modelled\"].values\n",
    "eomhdsobs"
   ]
  },
  {
   "cell_type": "code",
   "execution_count": null,
   "id": "680f4407-b12d-4778-a4ec-7d1ab4ae1db3",
   "metadata": {},
   "outputs": [],
   "source": [
    "fig,ax = plt.subplots(1,1,figsize=(6,6))\n",
    "ax.pcolormesh(X,Y,hkarr)\n",
    "lb = ax.contour(X,Y,eomarr,levels=10,colors=\"w\")\n",
    "_= ax.clabel(lb)"
   ]
  },
  {
   "cell_type": "code",
   "execution_count": null,
   "id": "c9f30c81-7e9b-4204-b999-ca6ab59ae014",
   "metadata": {},
   "outputs": [],
   "source": [
    "forecasts = pst.pestpp_options[\"forecasts\"].split(\",\")\n",
    "forecasts.sort()\n",
    "forecasts"
   ]
  },
  {
   "cell_type": "code",
   "execution_count": null,
   "id": "ba2fd751-2f2b-4238-8fdf-7d119d3ce482",
   "metadata": {},
   "outputs": [],
   "source": [
    "res = pst.res\n",
    "res.loc[forecasts,:]"
   ]
  },
  {
   "cell_type": "code",
   "execution_count": null,
   "id": "d9feaa07-7ab8-4503-8bb0-7065ed1ce931",
   "metadata": {},
   "outputs": [],
   "source": [
    "res.loc[res.name.str.contains(\"gde\"),:]"
   ]
  },
  {
   "cell_type": "markdown",
   "id": "c6dfdd08-b3a6-446a-964d-e00593ac3f5c",
   "metadata": {},
   "source": [
    "So our calibrated model is over pumping: the simulated pit level is lower than 80 and the end of mining GDE flux is not even close to the pre-development estimate...\n",
    "\n",
    "Let's see if we can optimize our way out of this issue.  First we need to define our optimization problem in terms of decision variables, constraints, and the objective function"
   ]
  },
  {
   "cell_type": "code",
   "execution_count": null,
   "id": "aeb4805f-43a0-4d03-abb0-f2b934651c5a",
   "metadata": {},
   "outputs": [],
   "source": [
    "\n",
    "forecasts"
   ]
  },
  {
   "cell_type": "markdown",
   "id": "8cb296c9-29cb-475d-9394-f519f93eb0d6",
   "metadata": {},
   "source": [
    "Get the name of dewatering and reinjection wells and set some bounds.  For fun, lets allow every well to be either an extractor or injector"
   ]
  },
  {
   "cell_type": "code",
   "execution_count": null,
   "id": "013b9153-790c-4260-95d1-3a6e62a433d5",
   "metadata": {},
   "outputs": [],
   "source": [
    "wpar = par.loc[par.parnme.str.contains(\"wel\"),:]"
   ]
  },
  {
   "cell_type": "code",
   "execution_count": null,
   "id": "8b119832-4f77-410a-9233-8743c0f18733",
   "metadata": {},
   "outputs": [],
   "source": [
    "wpar.shape\n",
    "mpar = wpar.loc[wpar.parnme.str.contains(\"mar\"),:]\n",
    "dpar = wpar.loc[wpar.parnme.str.contains(\"dewater\"),:]\n"
   ]
  },
  {
   "cell_type": "code",
   "execution_count": null,
   "id": "fcf3599b-5e7b-4b1d-b7c5-1524e1a78774",
   "metadata": {},
   "outputs": [],
   "source": [
    "par.loc[mpar.parnme,\"partrans\"] = \"none\"\n",
    "par.loc[mpar.parnme,\"parlbnd\"] = 0\n",
    "par.loc[mpar.parnme,\"parubnd\"] = 1500\n",
    "par.loc[dpar.parnme,\"partrans\"] = \"none\"\n",
    "par.loc[dpar.parnme,\"parlbnd\"] = -3000\n",
    "par.loc[dpar.parnme,\"parubnd\"] = 0\n",
    "\n",
    "pst.pestpp_options[\"opt_dec_var_groups\"] = wpar.pargp.unique().tolist()\n",
    "pargp = pst.parameter_groups\n",
    "pargp.loc[mpar.pargp.iloc[0],\"inctyp\"] = \"absolute\"\n",
    "pargp.loc[mpar.pargp.iloc[0],\"derinc\"] = 500\n",
    "pargp.loc[dpar.pargp.iloc[0],\"inctyp\"] = \"absolute\"\n",
    "pargp.loc[dpar.pargp.iloc[0],\"derinc\"] = -1000\n"
   ]
  },
  {
   "cell_type": "markdown",
   "id": "aafc238a-39a9-4870-b840-538c47363b28",
   "metadata": {},
   "source": [
    "Now for constraints.  First, we want to make sure that whatever happens, we dont simulate water levels above land surface at well locations"
   ]
  },
  {
   "cell_type": "code",
   "execution_count": null,
   "id": "c93fa3bb-26cf-4ca0-859f-d94f8a19e00d",
   "metadata": {},
   "outputs": [],
   "source": [
    "obs = pst.observation_data\n",
    "hobs = obs.loc[obs.obsnme.str.contains(\"hdslay1_t2\"),:].copy()\n",
    "assert hobs.shape[0] > 0\n",
    "hobs[\"i\"] = hobs.i.astype(int)\n",
    "hobs[\"j\"] = hobs.j.astype(int)\n",
    "top = np.loadtxt(os.path.join(t_d,\"model.dis_top.txt\")).reshape(hobs.i.max()+1,hobs.j.max()+1)\n",
    "\n",
    "wpar['i'] = wpar.idx1.astype(int)\n",
    "wpar['j'] = wpar.idx2.astype(int)\n",
    "for i,j in zip(wpar.i,wpar.j):\n",
    "    ijhobs = hobs.loc[(hobs.i==i) & (hobs.j==j),:]\n",
    "    assert ijhobs.shape[0] == 1\n",
    "    obs.loc[ijhobs.obsnme,\"weight\"] = 1\n",
    "    obs.loc[ijhobs.obsnme,\"obgnme\"] = \"less_than\"\n",
    "    obs.loc[ijhobs.obsnme,\"obsval\"] = top[i,j]    "
   ]
  },
  {
   "cell_type": "markdown",
   "id": "c7f2d3e8-f50c-45dc-8d03-22a14213bc7d",
   "metadata": {},
   "source": [
    "Now we want to try to maintain the end-of-mining flux to the GDE to be comparable to what it was pre-development"
   ]
  },
  {
   "cell_type": "code",
   "execution_count": null,
   "id": "a605146a-1eca-4b4b-aa2f-ef1b6cce2ce0",
   "metadata": {},
   "outputs": [],
   "source": [
    "predev_gde_val = obs.loc[forecasts[0].replace(\"time:3651\",\"time:1\"),\"obsval\"]\n",
    "print(predev_gde_val)\n",
    "rhs_val = predev_gde_val\n",
    "obs.loc[forecasts[0],\"obsval\"] = rhs_val\n",
    "obs.loc[forecasts[0],\"obgnme\"] = \"less_than\"\n",
    "obs.loc[forecasts[0],\"weight\"] = 1.0"
   ]
  },
  {
   "cell_type": "markdown",
   "id": "a7a93eaf-e725-48f7-9fc9-a90e46926af0",
   "metadata": {},
   "source": [
    "And we want the water level in the pit to be less than 80"
   ]
  },
  {
   "cell_type": "code",
   "execution_count": null,
   "id": "158bf3dc-e29c-4f11-95e5-2b25d24062eb",
   "metadata": {},
   "outputs": [],
   "source": [
    "obs.loc[forecasts[-1],\"obsval\"] = 80\n",
    "obs.loc[forecasts[-1],\"obgnme\"] = \"less_than\"\n",
    "obs.loc[forecasts[-1],\"weight\"] = 1.0"
   ]
  },
  {
   "cell_type": "markdown",
   "id": "30961365-1b4b-4683-ac6d-c2f5c792d40f",
   "metadata": {},
   "source": [
    "Make sure we arent reinjecting more water than we are extracting"
   ]
  },
  {
   "cell_type": "code",
   "execution_count": null,
   "id": "737d62da-88c8-4ee6-8b62-5776af702209",
   "metadata": {},
   "outputs": [],
   "source": [
    "diffobs = obs.loc[(obs.oname==\"inc\") & (obs.usecol==\"totwel\") & (obs.totim==\"3651\"),:]\n",
    "assert diffobs.shape[0] == 1\n",
    "obs.loc[diffobs.obsnme,\"weight\"] = 1.0\n",
    "obs.loc[diffobs.obsnme,\"obsval\"] = 0.0\n",
    "obs.loc[diffobs.obsnme,\"obgnme\"] = \"less_than\""
   ]
  },
  {
   "cell_type": "markdown",
   "id": "4e1c1470-bc8c-422f-a3e4-43774cece034",
   "metadata": {},
   "source": [
    "For an objective function, we want to minimize the total dewatering flux because it costs money!"
   ]
  },
  {
   "cell_type": "code",
   "execution_count": null,
   "id": "56482d60-00f1-4b23-8305-408838c4b9ab",
   "metadata": {},
   "outputs": [],
   "source": [
    "aobs = obs.loc[(obs.oname==\"inc\") & (obs.usecol==\"wel\") & (obs.totim==\"3651\"),:]\n",
    "assert aobs.shape[0] == 1\n",
    "objname = aobs.obsnme.values[0]\n",
    "#obs.loc[objname,\"weight\"] = 1.0\n",
    "obs.loc[objname,\"obgnme\"] = \"greater_than\"\n",
    "pst.pestpp_options[\"opt_obj_func\"] = objname\n",
    "pst.pestpp_options[\"opt_direction\"] = \"max\""
   ]
  },
  {
   "cell_type": "markdown",
   "id": "bac6664c-269d-4d61-9398-659009886676",
   "metadata": {},
   "source": [
    "And just to make sure MF6 isnt cheating, we want to make sure the auto-flow-reduce isnt happening"
   ]
  },
  {
   "cell_type": "code",
   "execution_count": null,
   "id": "e2d79a23-c769-4cdd-9ce5-d1523e72e9a1",
   "metadata": {},
   "outputs": [],
   "source": [
    "wrobs = obs.loc[obs.obsnme.str.contains(\"wel-reduc\"),:]\n",
    "assert wrobs.shape[0]> 0\n",
    "obs.loc[wrobs.obsnme,\"weight\"] = 1\n",
    "obs.loc[wrobs.obsnme,\"obgnme\"] = \"greater_than\"\n",
    "obs.loc[wrobs.obsnme,\"obsval\"] = -1"
   ]
  },
  {
   "cell_type": "markdown",
   "id": "8507aae0-c4e9-4b68-9640-4c3d38a5e4b3",
   "metadata": {},
   "source": [
    "Thats it!  Lets run it..."
   ]
  },
  {
   "cell_type": "code",
   "execution_count": null,
   "id": "40ed534a-b526-458c-ad89-e9e834c9bf05",
   "metadata": {},
   "outputs": [],
   "source": [
    "pst.control_data.noptmax = 1"
   ]
  },
  {
   "cell_type": "code",
   "execution_count": null,
   "id": "96d6575d-973d-40fa-a50a-d0ec4450bd98",
   "metadata": {},
   "outputs": [],
   "source": [
    "pst.write(os.path.join(t_d,\"pest.pst\"),version=2)"
   ]
  },
  {
   "cell_type": "code",
   "execution_count": null,
   "id": "56f1e752-5ac5-448e-b47f-8533f1bb6a71",
   "metadata": {},
   "outputs": [],
   "source": [
    "num_workers = 10\n",
    "m_d = \"master_opt0\""
   ]
  },
  {
   "cell_type": "code",
   "execution_count": null,
   "id": "1673c1ba-d62b-4b5c-9455-7de5f7c76b62",
   "metadata": {},
   "outputs": [],
   "source": [
    "pyemu.os_utils.start_workers(t_d, # the folder which contains the \"template\" PEST dataset\n",
    "                            'pestpp-opt', #the PEST software version we want to run\n",
    "                            'pest.pst', # the control file to use with PEST\n",
    "                            num_workers=num_workers, #how many agents to deploy\n",
    "                            worker_root='.', #where to deploy the agent directories; relative to where python is running\n",
    "                            master_dir=m_d, #the manager directory\n",
    "                            )"
   ]
  },
  {
   "cell_type": "code",
   "execution_count": null,
   "id": "140fb2fc-3c95-4799-97ba-14cc8f6ae1b2",
   "metadata": {},
   "outputs": [],
   "source": [
    "jcb = pyemu.Matrix.from_binary(os.path.join(m_d,\"pest.1.jcb\")).to_dataframe()\n",
    "jcb.loc[forecasts,:].T"
   ]
  },
  {
   "cell_type": "markdown",
   "id": "847e4bfc-2699-46b3-b3e9-56c6b1723a0c",
   "metadata": {},
   "source": [
    "Check your understanding:  What are those numbers on the response matrix?  What percent of the water injected at a given `mar` well ends up in the GDE?"
   ]
  },
  {
   "cell_type": "code",
   "execution_count": null,
   "id": "da59683e-db4b-4dbc-ac53-66d4ed95aa80",
   "metadata": {},
   "outputs": [],
   "source": [
    "pst.set_res(os.path.join(m_d,\"pest.res\"))\n",
    "res = pst.res\n",
    "res.loc[res.name.str.contains(\"gde\"),:]"
   ]
  },
  {
   "cell_type": "code",
   "execution_count": null,
   "id": "35172959-442e-44ac-9bf8-ae06bf0f7a16",
   "metadata": {},
   "outputs": [],
   "source": [
    "pst.parrep(os.path.join(m_d,\"pest.{0}.par\".format(pst.control_data.noptmax)))"
   ]
  },
  {
   "cell_type": "code",
   "execution_count": null,
   "id": "a6f492fe-3802-4bb9-8723-af93e853cc40",
   "metadata": {},
   "outputs": [],
   "source": [
    "par = pst.parameter_data\n",
    "par.loc[wpar.parnme,:]"
   ]
  },
  {
   "cell_type": "code",
   "execution_count": null,
   "id": "010d4a40-bce0-4938-b9ff-08b2235c3699",
   "metadata": {},
   "outputs": [],
   "source": [
    "wpar[\"x\"] = X[wpar.i,wpar.j]\n",
    "wpar[\"y\"] = Y[wpar.i,wpar.j]\n",
    "eomarr[eomhdsobs.i,eomhdsobs.j] = pst.res.loc[eomhdsobs.obsnme,\"modelled\"]\n",
    "fig,ax = plt.subplots(1,1)\n",
    "ax.pcolormesh(X,Y,hkarr)\n",
    "ax.scatter(wpar.x,wpar.y,marker='.',s=80,c=par.loc[wpar.parnme,\"parval1\"].values,cmap=\"coolwarm\")\n",
    "lb = ax.contour(X,Y,eomarr,levels=10,colors='w')\n",
    "ax.clabel(lb)\n"
   ]
  },
  {
   "cell_type": "markdown",
   "id": "592449d8-0cd7-4840-8f6a-cdc5991573e9",
   "metadata": {},
   "source": [
    "Interesting pattern hey?!  \n",
    "\n"
   ]
  },
  {
   "cell_type": "markdown",
   "id": "dff6ee8b-7cda-4f1e-b259-5f8bf4d5df6b",
   "metadata": {},
   "source": [
    "Lets checkout the optimal objective funtion:"
   ]
  },
  {
   "cell_type": "code",
   "execution_count": null,
   "id": "102d1ec4-0b21-4544-b92a-3d6e9b9867aa",
   "metadata": {},
   "outputs": [],
   "source": [
    "dfobj = pd.read_csv(os.path.join(m_d,\"pest.slp.iobj.csv\"))\n",
    "dfobj"
   ]
  },
  {
   "cell_type": "markdown",
   "id": "b2aafbd4-564e-4410-b9ec-ff3610d16722",
   "metadata": {},
   "source": [
    "## Reusing the response matrix\n",
    "\n",
    "We can now reuse that response matrix and change any number of inputs to the optimization problem...\n"
   ]
  },
  {
   "cell_type": "code",
   "execution_count": null,
   "id": "2cbf3e7c-6cee-43ec-b1de-99840f67ef0f",
   "metadata": {},
   "outputs": [],
   "source": [
    "resp_mat_fname = \"pest.1.jcb\"\n",
    "assert os.path.exists(os.path.join(m_d,resp_mat_fname))\n",
    "pst.pestpp_options[\"base_jacobian\"] = resp_mat_fname"
   ]
  },
  {
   "cell_type": "markdown",
   "id": "f1320da3-b512-47b8-a79b-cf8edb2b009b",
   "metadata": {},
   "source": [
    "Let's increase the allowable upper bound on the reinjection wells, which greatly increases the feasible space...  "
   ]
  },
  {
   "cell_type": "code",
   "execution_count": null,
   "id": "3f3ce65a-b490-45ac-89e3-10eca4171f00",
   "metadata": {},
   "outputs": [],
   "source": [
    "pst.parameter_data.loc[mpar.parnme,\"parubnd\"] = 3500"
   ]
  },
  {
   "cell_type": "code",
   "execution_count": null,
   "id": "cc5a63cb-a392-4413-95b4-ad2d7c0cf043",
   "metadata": {},
   "outputs": [],
   "source": [
    "pst.control_data.noptmax = 1\n",
    "pst.write(os.path.join(m_d,\"pest.pst\"),version=2)\n",
    "pyemu.os_utils.run(\"pestpp-opt pest.pst\",cwd=m_d)\n"
   ]
  },
  {
   "cell_type": "code",
   "execution_count": null,
   "id": "6b9e54f5-c8de-4b9a-ac1b-7ada70026b2d",
   "metadata": {},
   "outputs": [],
   "source": [
    "pst.parrep(os.path.join(m_d,\"pest.{0}.par\".format(pst.control_data.noptmax)))\n",
    "par = pst.parameter_data\n",
    "pst.set_res(os.path.join(m_d,\"pest.res\"))\n",
    "res = pst.res\n",
    "res.loc[res.name.str.contains(\"gde\"),:]"
   ]
  },
  {
   "cell_type": "code",
   "execution_count": null,
   "id": "4d916a18-7b59-4019-9837-0e9849f3d0f1",
   "metadata": {},
   "outputs": [],
   "source": [
    "eomarr[eomhdsobs.i,eomhdsobs.j] = pst.res.loc[eomhdsobs.obsnme,\"modelled\"]\n",
    "fig,ax = plt.subplots(1,1)\n",
    "ax.pcolormesh(X,Y,hkarr)\n",
    "ax.scatter(wpar.x,wpar.y,marker='.',s=80,c=par.loc[wpar.parnme,\"parval1\"].values,cmap=\"coolwarm\")\n",
    "lb = ax.contour(X,Y,eomarr,levels=10,colors='w')\n",
    "ax.clabel(lb)"
   ]
  },
  {
   "cell_type": "markdown",
   "id": "0410fcc7-545c-4293-845b-a58d1ac5d70f",
   "metadata": {},
   "source": [
    "## Reliability\n",
    "\n",
    "Lets see how the posterior ensemble of realizations does in terms of feasibility"
   ]
  },
  {
   "cell_type": "code",
   "execution_count": null,
   "id": "e598add8-799e-4092-a4e4-a46401b9b814",
   "metadata": {},
   "outputs": [],
   "source": [
    "forecasts"
   ]
  },
  {
   "cell_type": "code",
   "execution_count": null,
   "id": "7637db9a-32fc-4067-b781-8d6669566c8e",
   "metadata": {},
   "outputs": [],
   "source": [
    "oe_pt = pst.ies.get(\"obsen\",pst.ies.phiactual.iteration.max())\n",
    "oe_feas = oe_pt.loc[oe_pt[forecasts[-1]]<80,:]\n",
    "oe_feas = oe_feas.loc[oe_feas[forecasts[0]]<rhs_val,:]\n",
    "oe_feas.loc[:,forecasts]"
   ]
  },
  {
   "cell_type": "markdown",
   "id": "4f38cc6d-0ca4-4870-a6e6-94e3c288a08d",
   "metadata": {},
   "source": [
    "So only a few realizations are feasible...we can calculate the \"reliability\" on the base scenario (with the standard rates)"
   ]
  },
  {
   "cell_type": "code",
   "execution_count": null,
   "id": "3f7c8695-f110-49e1-a0f8-5d6443517533",
   "metadata": {},
   "outputs": [],
   "source": [
    "reliability = 100 * oe_feas.shape[0]/oe_pt.shape[0]\n",
    "print(reliability,\" percent reliable\")"
   ]
  },
  {
   "cell_type": "markdown",
   "id": "625cd643-8c7d-4f28-bdae-836c8bcb75a7",
   "metadata": {},
   "source": [
    "yikes!  We probably dont want to go to press with these results...\n",
    "\n",
    "Let see if we can use the ies ensemble within the optimizer to find a more reliable solution..."
   ]
  },
  {
   "cell_type": "code",
   "execution_count": null,
   "id": "61c5b608-c3e7-40f2-9526-ddb20686d5e9",
   "metadata": {},
   "outputs": [],
   "source": [
    "pst = pyemu.Pst(os.path.join(m_d,\"pest.pst\"))\n",
    "pst.pestpp_options"
   ]
  },
  {
   "cell_type": "code",
   "execution_count": null,
   "id": "dfcf1da4-8bdd-4274-839f-1debe6e78b05",
   "metadata": {},
   "outputs": [],
   "source": [
    "pst.pestpp_options[\"opt_par_stack\"] = \"pest.{0}.par.jcb\".format(pst.ies.phiactual.iteration.max())\n",
    "pst.pestpp_options[\"opt_obs_stack\"] = \"pest.{0}.obs.jcb\".format(pst.ies.phiactual.iteration.max())\n",
    "pst.pestpp_options[\"opt_recalc_chance_every\"] = 9999\n",
    "pst.pestpp_options[\"opt_risk\"] = 0.95 #this is the fractional reliability value - bigger is more conservative...\n",
    "pst.control_data.noptmax = 1\n",
    "pst.write(os.path.join(m_d,\"pest.pst\"),version=2)\n",
    "#m_d = \"master_opt_reliable\""
   ]
  },
  {
   "cell_type": "code",
   "execution_count": null,
   "id": "b95a4fb5-db3c-48d6-a7a6-0923e5d91e26",
   "metadata": {},
   "outputs": [],
   "source": [
    "pyemu.os_utils.run(\"pestpp-opt pest.pst\",cwd=m_d)"
   ]
  },
  {
   "cell_type": "code",
   "execution_count": null,
   "id": "7a7fc05b-3ccd-4353-8bef-b6b24fbc4f19",
   "metadata": {},
   "outputs": [],
   "source": [
    "pst.parrep(os.path.join(m_d,\"pest.{0}.par\".format(pst.control_data.noptmax)))\n",
    "par = pst.parameter_data\n",
    "pst.set_res(os.path.join(m_d,\"pest.res\"))"
   ]
  },
  {
   "cell_type": "code",
   "execution_count": null,
   "id": "1450dc8e-ade0-462a-91ab-18b464baad5a",
   "metadata": {},
   "outputs": [],
   "source": [
    "par.loc[wpar.parnme,:]"
   ]
  },
  {
   "cell_type": "code",
   "execution_count": null,
   "id": "9524f4a4-815f-414d-9ddf-b279a7d23737",
   "metadata": {},
   "outputs": [],
   "source": [
    "eomarr[eomhdsobs.i,eomhdsobs.j] = pst.res.loc[eomhdsobs.obsnme,\"modelled\"]\n",
    "fig,ax = plt.subplots(1,1)\n",
    "ax.pcolormesh(X,Y,hkarr)\n",
    "ax.scatter(wpar.x,wpar.y,marker='.',s=80,c=par.loc[wpar.parnme,\"parval1\"].values,cmap=\"coolwarm\")\n",
    "lb = ax.contour(X,Y,eomarr,levels=10,colors='w')\n",
    "ax.clabel(lb)"
   ]
  },
  {
   "cell_type": "markdown",
   "id": "576c791b-6078-4c23-9d47-ab43e7ac717b",
   "metadata": {},
   "source": [
    "Wait, we only need to get down to 80 in the pit for dewatering, why is it less than 70 now?!  \n",
    "\n",
    "That is the \"cost\" of uncertainty: to ensure that the decision support we provide is highly reliable in the face of uncertainty, we have to design an system that \"over\" dewaters and \"over\" reinjects.  The optimal design we found IS highly reliable with respect to expected uncertainties in hydraulic properties and some boundary condition representations"
   ]
  },
  {
   "cell_type": "code",
   "execution_count": null,
   "id": "0b038077-41c2-4bd9-bf71-7fc1abbdf81f",
   "metadata": {},
   "outputs": [],
   "source": []
  }
 ],
 "metadata": {
  "language_info": {
   "name": "python"
  }
 },
 "nbformat": 4,
 "nbformat_minor": 5
}
