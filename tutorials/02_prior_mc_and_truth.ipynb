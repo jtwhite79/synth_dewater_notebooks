{
 "cells": [
  {
   "cell_type": "markdown",
   "id": "7f3e0187-37a6-4ae9-815c-c63004c58a8f",
   "metadata": {},
   "source": [
    "# Prior Monte Carlo\n",
    "\n",
    "In it's simplest form, Monte Carlo boils down to: 1) \"draw\" many random samples of parameters from the prior probability distribution, 2) run the model, 3) look at the results.\n",
    "\n",
    "So how do we \"draw\", or sample, parameters? (Think \"draw\" as in \"drawing a card from a deck\"). We need to randomly sample parameter values from a range. This range is defined by the _prior parameter probability distribution_. As we did for FOSM, let's assume that the bounds in the parameter data section define the range of a Gaussian (or normal) distribution, and that the initial values define the mean. \n",
    "\n",
    "We will also use the results of the prior MC to choose the truth for our dual experiment where we see if the modeling can bracket the simulated results of an unseen realization...\n",
    "\n",
    "<font color=\"#ff7700ff\">\n",
    "En su forma más simple, <code>Monte Carlo</code> es: 1) \"sacar\" muchas muestras aleatorias de parámetros de la distribución de probabilidad previa, 2) correr el modelo, 3) mirar los resultados.\n",
    "\n",
    "¿Cómo \"sacamos\" o muestreamos parámetros? (Piensa en \"sacar\" como sacar una carta de una mazo). Hay que muestrear valores de parámetros de manera aleatoria dentro de un rango. Ese rango lo define la <code>distribución de probabilidad previa</code> de los parámetros.\n",
    "\n",
    "También vamos a usar los resultados del MC previo para elegir la \"verdad\" en nuestro experimento dual, donde vemos si el modelo puede acotar los resultados simulados de una realización que no ha visto...\n",
    "</font>"
   ]
  },
  {
   "cell_type": "code",
   "execution_count": null,
   "id": "78849386-7bd7-4304-a3c2-9492d4d453bc",
   "metadata": {},
   "outputs": [],
   "source": [
    "\n",
    "\n",
    "import os\n",
    "import shutil\n",
    "import warnings\n",
    "warnings.filterwarnings(\"ignore\")\n",
    "warnings.filterwarnings(\"ignore\", category=DeprecationWarning) \n",
    "import pandas as pd\n",
    "import numpy as np\n",
    "import matplotlib.pyplot as plt;\n",
    "\n",
    "import sys\n",
    "import pyemu\n",
    "import flopy\n",
    "\n",
    "\n",
    "# specify the temporary working folder\n",
    "t_d = os.path.join('pst_template_pmc')\n",
    "# get the previously generated PEST dataset\n",
    "org_t_d = os.path.join('pst_template')\n",
    "if not os.path.exists(org_t_d):\n",
    "    raise Exception()\n",
    "if os.path.exists(t_d):\n",
    "    shutil.rmtree(t_d)\n",
    "shutil.copytree(org_t_d,t_d)"
   ]
  },
  {
   "cell_type": "code",
   "execution_count": null,
   "id": "0d243a52-cdb9-48d2-9a57-473fc8cbad86",
   "metadata": {},
   "outputs": [],
   "source": [
    "pst = pyemu.Pst(os.path.join(t_d,\"pest.pst\"))"
   ]
  },
  {
   "cell_type": "code",
   "execution_count": null,
   "id": "93ab2171-936d-4a8d-9e29-0bb75b833011",
   "metadata": {},
   "outputs": [],
   "source": [
    "pst.observation_data[\"weight\"] = 0.0"
   ]
  },
  {
   "cell_type": "code",
   "execution_count": null,
   "id": "401c0096-99b6-46bc-96b9-c13368cf0748",
   "metadata": {},
   "outputs": [],
   "source": [
    "pst.pestpp_options[\"ies_num_reals\"] = 200\n",
    "pst.pestpp_options[\"save_binary\"] = True\n",
    "pst.control_data.noptmax = -1"
   ]
  },
  {
   "cell_type": "code",
   "execution_count": null,
   "id": "578c1985-c55c-4a7d-869e-a700b25c2e14",
   "metadata": {},
   "outputs": [],
   "source": [
    "pst.write(os.path.join(t_d,\"pest.pst\"),version=2)"
   ]
  },
  {
   "cell_type": "code",
   "execution_count": null,
   "id": "c9cf0bb6-a3fb-4a89-886a-0533f3114791",
   "metadata": {},
   "outputs": [],
   "source": [
    "num_workers=10\n",
    "m_d = \"master_prior_mc\""
   ]
  },
  {
   "cell_type": "code",
   "execution_count": null,
   "id": "38592295-5e58-48ef-9509-fa657712dea8",
   "metadata": {},
   "outputs": [],
   "source": [
    "pyemu.os_utils.start_workers(t_d, # the folder which contains the \"template\" PEST dataset\n",
    "                            'pestpp-ies', #the PEST software version we want to run\n",
    "                            'pest.pst', # the control file to use with PEST\n",
    "                            num_workers=num_workers, #how many agents to deploy\n",
    "                            worker_root='.', #where to deploy the agent directories; relative to where python is running\n",
    "                            master_dir=m_d, #the manager directory\n",
    "                            )"
   ]
  },
  {
   "cell_type": "markdown",
   "id": "ff67f423-7322-4ce4-ba20-12a0846e6404",
   "metadata": {},
   "source": [
    "# Exploring prior forecast uncertainty\n",
    "\n",
    "At this point, we are prepared to check the uncertainty of the predictions before \"calibration\".  "
   ]
  },
  {
   "cell_type": "code",
   "execution_count": null,
   "id": "d8320d05-a35f-4269-b943-01a7b43ac1dd",
   "metadata": {},
   "outputs": [],
   "source": [
    "pst = pyemu.Pst(os.path.join(m_d,\"pest.pst\"))"
   ]
  },
  {
   "cell_type": "code",
   "execution_count": null,
   "id": "78bb1911-202b-4d16-98f7-bab96d6ee221",
   "metadata": {},
   "outputs": [],
   "source": [
    "oe = pst.ies.obsen"
   ]
  },
  {
   "cell_type": "code",
   "execution_count": null,
   "id": "1564732c-e6cd-4c94-8a1d-6d3af1da62ef",
   "metadata": {},
   "outputs": [],
   "source": [
    "forecasts = [f.strip() for f in pst.pestpp_options[\"forecasts\"].split(',')]\n",
    "forecasts.sort()\n",
    "forecasts"
   ]
  },
  {
   "cell_type": "code",
   "execution_count": null,
   "id": "bc3ba112-8ccd-4849-b596-cf085cddde06",
   "metadata": {},
   "outputs": [],
   "source": [
    "for f in forecasts:\n",
    "    ax = oe.loc[:,f].plot(kind=\"hist\",fc=\"0.5\",alpha=0.5,density=True)\n",
    "    ax.set_title(f)\n",
    "    ax.set_yticks([])\n",
    "    ax.set_ylabel(\"\")\n",
    "    plt.show()"
   ]
  },
  {
   "cell_type": "markdown",
   "id": "880ba722-1cb9-408e-91df-5406750bae36",
   "metadata": {},
   "source": [
    "there you go! you just did uncertainty analysis!"
   ]
  },
  {
   "cell_type": "markdown",
   "id": "9bf3cdac-2f80-4aa8-aed3-647b8b8b0ea5",
   "metadata": {},
   "source": [
    "## Let's define the truth\n",
    "\n",
    "In this synthetic case we are going to use one of the realizations as our \"truth\" and use it to pull some big and beautiful \"measurement\" observations for data assimilation.\n",
    "\n",
    "<font color=\"#ff7700ff\">\n",
    "En este caso sintético vamos a usar una de las realizaciones como nuestra <code>verdad</code> y la vamos a usar para sacar un set de datos de observación para asimilación de datos.\n",
    "</font>"
   ]
  },
  {
   "cell_type": "code",
   "execution_count": null,
   "id": "0f98b9cd-09c3-457d-83b4-16c6350fb035",
   "metadata": {},
   "outputs": [],
   "source": [
    "pst = pyemu.Pst(os.path.join(m_d,\"pest.pst\"))"
   ]
  },
  {
   "cell_type": "code",
   "execution_count": null,
   "id": "4a09b586-5cbc-4884-b21c-3c560c3cca94",
   "metadata": {},
   "outputs": [],
   "source": [
    "oe = pst.ies.obsen"
   ]
  },
  {
   "cell_type": "code",
   "execution_count": null,
   "id": "b27e587d-23db-462f-8912-0086ac979bbc",
   "metadata": {},
   "outputs": [],
   "source": [
    "forecasts = [f.strip() for f in pst.pestpp_options[\"forecasts\"].split(',')]\n",
    "forecasts.sort()\n",
    "forecasts"
   ]
  },
  {
   "cell_type": "code",
   "execution_count": null,
   "id": "628f4891-900f-47a7-acc4-054a76e6481e",
   "metadata": {},
   "outputs": [],
   "source": [
    "#oe = oe.loc[oe[forecasts[-1]]<80,:]"
   ]
  },
  {
   "cell_type": "code",
   "execution_count": null,
   "id": "bc3c11ab-8f35-4cf7-86cc-c7a9f8292be0",
   "metadata": {},
   "outputs": [],
   "source": [
    "\n",
    "vals = oe.loc[:,forecasts[0]].copy()\n",
    "vals.sort_values(inplace=True)\n",
    "vals"
   ]
  },
  {
   "cell_type": "code",
   "execution_count": null,
   "id": "5b71a537-a255-44eb-a568-020784e1ce28",
   "metadata": {},
   "outputs": [],
   "source": [
    "quant = np.quantile(vals.values,0.95)\n",
    "quant"
   ]
  },
  {
   "cell_type": "code",
   "execution_count": null,
   "id": "6640ad17-c73b-4d84-87d4-10a081caa656",
   "metadata": {},
   "outputs": [],
   "source": [
    "diff = np.abs(vals - quant)\n",
    "truth_real = diff.idxmin()\n",
    "truth_real,vals.loc[truth_real]"
   ]
  },
  {
   "cell_type": "code",
   "execution_count": null,
   "id": "4c21ba1a-ea13-4226-9f02-deafcbe79cf0",
   "metadata": {},
   "outputs": [],
   "source": [
    "oe.loc[truth_real,:]"
   ]
  },
  {
   "cell_type": "code",
   "execution_count": null,
   "id": "cac2996d-12f8-46e1-8023-6a323d74a9fe",
   "metadata": {},
   "outputs": [],
   "source": [
    "for f in forecasts:\n",
    "    ax = oe.loc[:,f].plot(kind=\"hist\",fc=\"0.5\",alpha=0.5,density=True)\n",
    "    ylim = ax.get_ylim()\n",
    "    v = oe.loc[truth_real,f]\n",
    "    ax.plot([v,v],ylim,\"r--\",lw=2)\n",
    "    ax.set_title(f)\n",
    "    ax.set_yticks([])\n",
    "    ax.set_ylabel(\"\")\n",
    "    plt.show()"
   ]
  },
  {
   "cell_type": "markdown",
   "id": "d4230093",
   "metadata": {},
   "source": [
    "We have the observation values for the truth. Let's run that truth thru the  model so we can visual what it looks like\n",
    "\n",
    "Let's do that and run a test with noptmax zero.\n",
    "\n",
    "<font color=\"#ff7700ff\">\n",
    "Ya tenemos los valores de observación para la <code>verdad</code>. \n",
    "\n",
    "Hagamos eso y corramos un test con <code>noptmax</code> en cero.\n",
    "</font>"
   ]
  },
  {
   "cell_type": "code",
   "execution_count": null,
   "id": "6453432f-94b3-4a49-8c1a-f7b041221c8f",
   "metadata": {},
   "outputs": [],
   "source": []
  },
  {
   "cell_type": "code",
   "execution_count": null,
   "id": "c0eba3c2-575a-4452-8b64-6a5862996ffc",
   "metadata": {},
   "outputs": [],
   "source": [
    "pe = pst.ies.paren0\n",
    "truth_pvals = pe.loc[truth_real,:].values.flatten()\n",
    "truth_pvals.shape,pst.npar"
   ]
  },
  {
   "cell_type": "code",
   "execution_count": null,
   "id": "1343840e-4731-403c-b3a2-1f4577d55420",
   "metadata": {},
   "outputs": [],
   "source": [
    "pe.index"
   ]
  },
  {
   "cell_type": "code",
   "execution_count": null,
   "id": "95a0eaaf-739a-4d3f-bc7a-59c26012e9cd",
   "metadata": {},
   "outputs": [],
   "source": [
    "truth_pvals"
   ]
  },
  {
   "cell_type": "code",
   "execution_count": null,
   "id": "80526f6e-696a-43c9-83f7-d73243047f3c",
   "metadata": {},
   "outputs": [],
   "source": [
    "# make a copy of the original values\n",
    "org_pvals = pst.parameter_data.loc[pe.columns,\"parval1\"].copy()\n",
    "# replace parval1 with our truth\n",
    "pst.parameter_data.loc[pe.columns,\"parval1\"] = truth_pvals\n",
    "pst.control_data.noptmax = 0\n",
    "pst.write(os.path.join(m_d,\"truth.pst\"),version=2)"
   ]
  },
  {
   "cell_type": "code",
   "execution_count": null,
   "id": "c37ba219-23e8-49c6-bfce-9e61bab17ee4",
   "metadata": {},
   "outputs": [],
   "source": [
    "pyemu.os_utils.run(\"pestpp-ies truth.pst\",cwd=m_d)"
   ]
  },
  {
   "cell_type": "markdown",
   "id": "74374214-0981-424c-914c-5773291084e7",
   "metadata": {},
   "source": [
    "Lets checkout the truth HK array:"
   ]
  },
  {
   "cell_type": "code",
   "execution_count": null,
   "id": "616628b1-36cf-40c5-99cc-c1c0c2e0f8ad",
   "metadata": {},
   "outputs": [],
   "source": [
    "df = pd.read_csv(os.path.join(m_d,\"mult2model_info.csv\"))\n",
    "kh1_df = df.loc[df.model_file.str.contains(\"npf_k\"),:]\n",
    "kh1_df\n",
    "org_arr = np.loadtxt(os.path.join(m_d,kh1_df.org_file.iloc[0]))\n",
    "inp_arr = np.loadtxt(os.path.join(m_d,kh1_df.model_file.iloc[0]))\n",
    "mlt_arrs = [np.loadtxt(os.path.join(m_d,afile)) for afile in kh1_df.mlt_file if not pd.isna(afile)]\n",
    "arrs = [org_arr]\n",
    "arrs.extend(mlt_arrs)\n",
    "arrs.append(inp_arr)\n",
    "\n",
    "mlt_arrs\n",
    "names = [\"org\"]\n",
    "names.extend([mf.split('.')[0].split('_')[-1] for mf in kh1_df.mlt_file if not pd.isna(mf)])\n",
    "names.append(\"MF6 input\")\n",
    "fig,axes = plt.subplots(1,len(arrs),figsize=(5*len(arrs),5))\n",
    "for i,ax in enumerate(axes.flatten()):\n",
    "    arr = np.log10(arrs[i])\n",
    "    cb = ax.imshow(arr)\n",
    "    plt.colorbar(cb,ax=ax, fraction=0.046, pad=0.04)\n",
    "    ax.set_title(names[i],loc=\"left\")\n",
    "plt.tight_layout()    "
   ]
  },
  {
   "cell_type": "code",
   "execution_count": null,
   "id": "fcf2b497-d1cf-4d4d-938b-342c46747f98",
   "metadata": {},
   "outputs": [],
   "source": [
    "pst.set_res(os.path.join(m_d,\"truth.base.rei\"))"
   ]
  },
  {
   "cell_type": "markdown",
   "id": "ad212620",
   "metadata": {},
   "source": [
    "## Let's do some initial weighting\n",
    "\n",
    "Here we’ll show how to do some simple weighting with PyEMU. These weights are just for visibility in the objective function and differ to the ones that represent observation noise, we’ll get to those in the next tutorial.\n",
    "\n",
    "<font color=\"#ff7700ff\">\n",
    "Aquí vamos a mostrar cómo hacer un <code>weighting</code> simple con <code>PyEMU</code>. Estos pesos son solo para que se vean en la función objetivo y son distintos a los que representan el ruido de observación, esos los vemos en el próximo tutorial.\n",
    "</font>"
   ]
  },
  {
   "cell_type": "code",
   "execution_count": null,
   "id": "99bd324f-b8fe-4e86-8f0e-251cb3b8ba38",
   "metadata": {},
   "outputs": [],
   "source": [
    "par = pst.parameter_data\n",
    "wpar = par.loc[(par.parnme.str.contains(\"mar\")) | (par.parnme.str.contains(\"dewater\")),:].copy()\n",
    "wpar[\"i\"] = wpar.idx1.astype(int)\n",
    "wpar[\"j\"] = wpar.idx2.astype(int)\n",
    "ijs = set([(i,j) for i,j in zip(wpar.i,wpar.j)])\n",
    "\n",
    "obs = pst.observation_data\n",
    "obs[\"weight\"] = 0.0\n",
    "\n",
    "obs.loc[:,\"obsval\"] = pst.res.loc[pst.obs_names,\"modelled\"].values\n",
    "hobs = obs.loc[obs.obsnme.str.contains(\"hdslay1_t1\"),:].copy()\n",
    "assert hobs.shape[0] > 0\n",
    "hobs['ij'] = hobs.apply(lambda x: (int(x.i),int(x.j)),axis=1)\n",
    "nzhobs = hobs.loc[hobs.ij.isin(ijs)]\n",
    "assert len(nzhobs) == len(ijs)\n",
    "obs.loc[nzhobs.obsnme,\"weight\"] = 10.0 #implies sigma = 0.1\n",
    "drnobs = obs.loc[(obs.usecol==\"drn-gde\") & (obs.time==\"1\"),:]\n",
    "assert len(drnobs) == 1\n",
    "obs.loc[drnobs.obsnme[0],\"weight\"] = 1./(np.abs(obs.loc[drnobs.obsnme[0],\"obsval\"]) * 0.2)\n",
    "assert pst.nnz_obs == len(ijs) + 1"
   ]
  },
  {
   "cell_type": "code",
   "execution_count": null,
   "id": "291f94c2-73ed-4a80-844d-cf77dc9113d1",
   "metadata": {},
   "outputs": [],
   "source": [
    "pst.parameter_data[\"parval1\"] = org_pvals\n",
    "pst.write(os.path.join(t_d,\"pest.pst\"),version=2)"
   ]
  },
  {
   "cell_type": "markdown",
   "id": "cb036491-552f-48e7-8182-a8a23a270efc",
   "metadata": {},
   "source": [
    "We also should remove the truth from the prior ensemble to make sure we arent cheating ;)\n",
    "\n",
    "<font color=\"#ff7700ff\">\n",
    "También hay que sacar la <code>verdad</code> del ensemble previo para no hacer trampa 😉. Si la dejamos, el modelo podría ver la respuesta. Hay que mantener el ensemble solo con realizaciones plausibles, pero que no incluyan la verdad.\n",
    "</font>\n",
    "\n"
   ]
  },
  {
   "cell_type": "code",
   "execution_count": null,
   "id": "3c2c819c-fdc3-404a-a960-23f62a93d6cf",
   "metadata": {},
   "outputs": [],
   "source": [
    "pe.drop(truth_real,inplace=True)\n",
    "if \"base\" in pe.index:\n",
    "    pe.drop(\"base\",inplace=True)"
   ]
  },
  {
   "cell_type": "code",
   "execution_count": null,
   "id": "e847d6c1-9356-4182-be77-186bc206e0e1",
   "metadata": {},
   "outputs": [],
   "source": [
    "pst.pestpp_options"
   ]
  },
  {
   "cell_type": "code",
   "execution_count": null,
   "id": "082e4aeb-9ce5-405b-9618-6abb511659fb",
   "metadata": {},
   "outputs": [],
   "source": [
    "pyemu.ParameterEnsemble(df=pe,pst=pst).to_binary(os.path.join(t_d,\"prior_pe.jcb\"))"
   ]
  },
  {
   "cell_type": "code",
   "execution_count": null,
   "id": "3953df15-3339-4b28-a73c-c6a7470c42d8",
   "metadata": {},
   "outputs": [],
   "source": []
  },
  {
   "cell_type": "code",
   "execution_count": null,
   "id": "205e5554-650f-44a4-8977-92aeb0a4bbdb",
   "metadata": {},
   "outputs": [],
   "source": []
  },
  {
   "cell_type": "code",
   "execution_count": null,
   "id": "842ce29f-1e3a-4bf5-b055-4b5df5d6370c",
   "metadata": {},
   "outputs": [],
   "source": []
  }
 ],
 "metadata": {
  "language_info": {
   "name": "python"
  }
 },
 "nbformat": 4,
 "nbformat_minor": 5
}
